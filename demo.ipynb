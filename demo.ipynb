{
 "cells": [
  {
   "cell_type": "markdown",
   "metadata": {},
   "source": [
    "# Demo\n",
    "> **The purpose of this notebook is to demostrate**\n",
    "> 1. How to conduct a feature space decomposition\n",
    "> 2. How to visualize a decomposition\n",
    "> 3. Qualitatively validate if the algorithm performs as expected\n",
    "\n",
    "**This decomoposition only works on numerical values**"
   ]
  },
  {
   "cell_type": "markdown",
   "metadata": {},
   "source": [
    "### Imports"
   ]
  },
  {
   "cell_type": "code",
   "execution_count": 1,
   "metadata": {
    "collapsed": true
   },
   "outputs": [],
   "source": [
    "import pandas as pd\n",
    "import numpy as np\n",
    "from sklearn.datasets import make_classification\n",
    "\n",
    "from decomposition.var_clus import VarClus"
   ]
  },
  {
   "cell_type": "markdown",
   "metadata": {},
   "source": [
    "### Demo 1: Instantiate the VarClus class\n",
    "\n",
    "> **The parameters used in the constructor are**  \n",
    "\n",
    "> **`n_split`**: Number of sub-clusters that every time a cluster is split into. Default 2  \n",
    "**`max_eigenvalue`**: Eigenvalue threshold below which the decomposition will be stopped. Please note, the dataframe will be scaled during the process so each of the features will have variance == 1. Default 1   \n",
    "**`max_tries`**: Number of max tries before the algorithm gives up. Default 3\n",
    "\n",
    "> Besides the aformentioned properties, a key property is called Cluster. A Cluster object holds the information related to the below regards\n",
    "1. What features are in the cluster\n",
    "2. What are the parent clusters, if any\n",
    "3. what are the child clusters, in any\n",
    "4. Dataframe"
   ]
  },
  {
   "cell_type": "code",
   "execution_count": 2,
   "metadata": {
    "collapsed": true
   },
   "outputs": [],
   "source": [
    "demo1 = VarClus()\n",
    "\n",
    "# Larger max_eigenvalue usually results in bigger and fewer child clusters\n",
    "demo1 = VarClus(max_eigenvalue=5)"
   ]
  },
  {
   "cell_type": "markdown",
   "metadata": {},
   "source": [
    "### Demo 2: Test on an arbitrary dataset\n",
    "\n",
    "> Let's create some simple dataset to play with  \n",
    "> We can leverage make_classification to make the dataset"
   ]
  },
  {
   "cell_type": "code",
   "execution_count": 3,
   "metadata": {
    "scrolled": true
   },
   "outputs": [
    {
     "name": "stdout",
     "output_type": "stream",
     "text": [
      "decomposing cluster cluster-0\n",
      "phase #1: NCS\n",
      "phase #2: Search\n",
      "assessing feature feature_1\n",
      "current EV is 4.3428256693168885, new EV is 4.18940979140287\n",
      "assessing feature feature_11\n",
      "current EV is 4.3428256693168885, new EV is 4.338220555192775\n",
      "assessing feature feature_12\n",
      "current EV is 4.3428256693168885, new EV is 4.316820784176796\n",
      "Number of max tries has been reached. Returning current result...\n",
      "decomposing cluster cluster-0-0\n",
      "phase #1: NCS\n",
      "phase #2: Search\n",
      "assessing feature feature_1\n",
      "current EV is 3.900185244782042, new EV is 3.775658483399982\n",
      "assessing feature feature_15\n",
      "current EV is 3.900185244782042, new EV is 3.8335603311891058\n",
      "assessing feature feature_16\n",
      "current EV is 3.900185244782042, new EV is 3.7718957645795252\n",
      "Number of max tries has been reached. Returning current result...\n",
      "decomposing cluster cluster-0-1\n",
      "phase #1: NCS\n",
      "phase #2: Search\n",
      "assessing feature feature_19\n",
      "current EV is 3.12553763172441, new EV is 3.0336527231338604\n",
      "assessing feature feature_24\n",
      "current EV is 3.12553763172441, new EV is 3.0287574603123555\n",
      "assessing feature feature_4\n",
      "current EV is 3.12553763172441, new EV is 3.0345052403422352\n",
      "Number of max tries has been reached. Returning current result...\n"
     ]
    },
    {
     "data": {
      "text/plain": [
       "<decomposition.var_clus.Cluster at 0x27826fcfe48>"
      ]
     },
     "execution_count": 3,
     "metadata": {},
     "output_type": "execute_result"
    }
   ],
   "source": [
    "n_features = 25\n",
    "n_rows = 1e4\n",
    "\n",
    "raw_df, _ = make_classification(n_samples=int(n_rows), \n",
    "                                n_features=n_features, \n",
    "                                n_informative=n_features,\n",
    "                                n_redundant=0)\n",
    "\n",
    "columns = ['feature_{}'.format(i) for i in range(n_features)]\n",
    "demo2_df = pd.DataFrame(raw_df, columns=columns)\n",
    "\n",
    "demo2 = VarClus(max_eigenvalue=1.35)\n",
    "demo2.decompose(demo2_df)"
   ]
  },
  {
   "cell_type": "markdown",
   "metadata": {},
   "source": [
    "> **The decomposition has a hierarchical structure, meaning the features of a child cluster are a subset of its parent cluster.\n",
    "The whole algorithm can be described as below**\n",
    "\n",
    ">> 1. Conducts PCA on current feature space. If the max eigenvalue is smaller than threshold,\n",
    "    stop decomposition\n",
    "2. Calculates the first N PCA components and assign features to these components based on\n",
    "    absolute correlation from high to low. These components are the initial centroids of\n",
    "    these child clusters.\n",
    "3. After initial assignment, the algorithm conducts an iterative assignment called Nearest\n",
    "    Component Sorting (NCS). Basically, the centroid vectors are re-computed as the first\n",
    "    components of the child clusters and the algorithm will re-assign each of the feature\n",
    "    based on the same correlation rule.\n",
    "4. After NCS, the algorithm tries to increase the total variance explained by the first\n",
    "    PCA component of each child cluster by re-assigning features across clusters"
   ]
  },
  {
   "cell_type": "code",
   "execution_count": 4,
   "metadata": {},
   "outputs": [
    {
     "data": {
      "text/plain": [
       "(10000, 25)"
      ]
     },
     "execution_count": 4,
     "metadata": {},
     "output_type": "execute_result"
    }
   ],
   "source": [
    "# Checkout the root_cluster\n",
    "root_cluster = demo2.cluster\n",
    "\n",
    "# Direct children of the root_cluster\n",
    "child_clusters = root_cluster.children\n",
    "\n",
    "# Direct parent of the root_cluster, if any\n",
    "parent_clusters = root_cluster.parents\n",
    "\n",
    "# root_cluster contains the original dataframe\n",
    "root_cluster.dataframe.shape"
   ]
  },
  {
   "cell_type": "code",
   "execution_count": 5,
   "metadata": {
    "scrolled": false
   },
   "outputs": [
    {
     "name": "stdout",
     "output_type": "stream",
     "text": [
      "cluster-0\n",
      "|\n",
      "|-----cluster-0-0\n",
      "|     |\n",
      "|     |-----cluster-0-0-0\n",
      "|     |     |-----feature_1\n",
      "|     |     |-----feature_15\n",
      "|     |     |-----feature_16\n",
      "|     |     |-----feature_17\n",
      "|     |     |-----feature_18\n",
      "|     |     |-----feature_2\n",
      "|     |     |-----feature_20\n",
      "|     |     |-----feature_21\n",
      "|     |     |-----feature_22\n",
      "|     |     |-----feature_23\n",
      "|     |\n",
      "|     |-----cluster-0-0-1\n",
      "|           |-----feature_11\n",
      "|           |-----feature_12\n",
      "|           |-----feature_13\n",
      "|           |-----feature_3\n",
      "|           |-----feature_6\n",
      "|\n",
      "|-----cluster-0-1\n",
      "      |\n",
      "      |-----cluster-0-1-0\n",
      "      |     |-----feature_19\n",
      "      |     |-----feature_24\n",
      "      |     |-----feature_4\n",
      "      |     |-----feature_7\n",
      "      |     |-----feature_8\n",
      "      |\n",
      "      |-----cluster-0-1-1\n",
      "            |-----feature_0\n",
      "            |-----feature_10\n",
      "            |-----feature_14\n",
      "            |-----feature_5\n",
      "            |-----feature_9\n"
     ]
    }
   ],
   "source": [
    "# Print out the structure of the decomposition\n",
    "demo2.print_cluster_structure()"
   ]
  },
  {
   "cell_type": "markdown",
   "metadata": {
    "collapsed": true
   },
   "source": [
    "### Demo 3: Test on a real dataset\n",
    "> **UCI Machine Learning Repository - Wine Quality Data Set**  \n",
    "https://archive.ics.uci.edu/ml/datasets/Wine+Quality\n"
   ]
  },
  {
   "cell_type": "markdown",
   "metadata": {},
   "source": [
    "* **White wine first**"
   ]
  },
  {
   "cell_type": "code",
   "execution_count": 6,
   "metadata": {
    "collapsed": true
   },
   "outputs": [],
   "source": [
    "demo3_df = pd.read_csv('https://archive.ics.uci.edu/ml/machine-learning-databases/wine-quality/winequality-white.csv', sep=';')"
   ]
  },
  {
   "cell_type": "code",
   "execution_count": 7,
   "metadata": {},
   "outputs": [
    {
     "data": {
      "text/html": [
       "<div>\n",
       "<style>\n",
       "    .dataframe thead tr:only-child th {\n",
       "        text-align: right;\n",
       "    }\n",
       "\n",
       "    .dataframe thead th {\n",
       "        text-align: left;\n",
       "    }\n",
       "\n",
       "    .dataframe tbody tr th {\n",
       "        vertical-align: top;\n",
       "    }\n",
       "</style>\n",
       "<table border=\"1\" class=\"dataframe\">\n",
       "  <thead>\n",
       "    <tr style=\"text-align: right;\">\n",
       "      <th></th>\n",
       "      <th>fixed acidity</th>\n",
       "      <th>volatile acidity</th>\n",
       "      <th>citric acid</th>\n",
       "      <th>residual sugar</th>\n",
       "      <th>chlorides</th>\n",
       "      <th>free sulfur dioxide</th>\n",
       "      <th>total sulfur dioxide</th>\n",
       "      <th>density</th>\n",
       "      <th>pH</th>\n",
       "      <th>sulphates</th>\n",
       "      <th>alcohol</th>\n",
       "      <th>quality</th>\n",
       "    </tr>\n",
       "  </thead>\n",
       "  <tbody>\n",
       "    <tr>\n",
       "      <th>0</th>\n",
       "      <td>7.0</td>\n",
       "      <td>0.27</td>\n",
       "      <td>0.36</td>\n",
       "      <td>20.7</td>\n",
       "      <td>0.045</td>\n",
       "      <td>45.0</td>\n",
       "      <td>170.0</td>\n",
       "      <td>1.0010</td>\n",
       "      <td>3.00</td>\n",
       "      <td>0.45</td>\n",
       "      <td>8.8</td>\n",
       "      <td>6</td>\n",
       "    </tr>\n",
       "    <tr>\n",
       "      <th>1</th>\n",
       "      <td>6.3</td>\n",
       "      <td>0.30</td>\n",
       "      <td>0.34</td>\n",
       "      <td>1.6</td>\n",
       "      <td>0.049</td>\n",
       "      <td>14.0</td>\n",
       "      <td>132.0</td>\n",
       "      <td>0.9940</td>\n",
       "      <td>3.30</td>\n",
       "      <td>0.49</td>\n",
       "      <td>9.5</td>\n",
       "      <td>6</td>\n",
       "    </tr>\n",
       "    <tr>\n",
       "      <th>2</th>\n",
       "      <td>8.1</td>\n",
       "      <td>0.28</td>\n",
       "      <td>0.40</td>\n",
       "      <td>6.9</td>\n",
       "      <td>0.050</td>\n",
       "      <td>30.0</td>\n",
       "      <td>97.0</td>\n",
       "      <td>0.9951</td>\n",
       "      <td>3.26</td>\n",
       "      <td>0.44</td>\n",
       "      <td>10.1</td>\n",
       "      <td>6</td>\n",
       "    </tr>\n",
       "    <tr>\n",
       "      <th>3</th>\n",
       "      <td>7.2</td>\n",
       "      <td>0.23</td>\n",
       "      <td>0.32</td>\n",
       "      <td>8.5</td>\n",
       "      <td>0.058</td>\n",
       "      <td>47.0</td>\n",
       "      <td>186.0</td>\n",
       "      <td>0.9956</td>\n",
       "      <td>3.19</td>\n",
       "      <td>0.40</td>\n",
       "      <td>9.9</td>\n",
       "      <td>6</td>\n",
       "    </tr>\n",
       "    <tr>\n",
       "      <th>4</th>\n",
       "      <td>7.2</td>\n",
       "      <td>0.23</td>\n",
       "      <td>0.32</td>\n",
       "      <td>8.5</td>\n",
       "      <td>0.058</td>\n",
       "      <td>47.0</td>\n",
       "      <td>186.0</td>\n",
       "      <td>0.9956</td>\n",
       "      <td>3.19</td>\n",
       "      <td>0.40</td>\n",
       "      <td>9.9</td>\n",
       "      <td>6</td>\n",
       "    </tr>\n",
       "  </tbody>\n",
       "</table>\n",
       "</div>"
      ],
      "text/plain": [
       "   fixed acidity  volatile acidity  citric acid  residual sugar  chlorides  \\\n",
       "0            7.0              0.27         0.36            20.7      0.045   \n",
       "1            6.3              0.30         0.34             1.6      0.049   \n",
       "2            8.1              0.28         0.40             6.9      0.050   \n",
       "3            7.2              0.23         0.32             8.5      0.058   \n",
       "4            7.2              0.23         0.32             8.5      0.058   \n",
       "\n",
       "   free sulfur dioxide  total sulfur dioxide  density    pH  sulphates  \\\n",
       "0                 45.0                 170.0   1.0010  3.00       0.45   \n",
       "1                 14.0                 132.0   0.9940  3.30       0.49   \n",
       "2                 30.0                  97.0   0.9951  3.26       0.44   \n",
       "3                 47.0                 186.0   0.9956  3.19       0.40   \n",
       "4                 47.0                 186.0   0.9956  3.19       0.40   \n",
       "\n",
       "   alcohol  quality  \n",
       "0      8.8        6  \n",
       "1      9.5        6  \n",
       "2     10.1        6  \n",
       "3      9.9        6  \n",
       "4      9.9        6  "
      ]
     },
     "execution_count": 7,
     "metadata": {},
     "output_type": "execute_result"
    }
   ],
   "source": [
    "# Looks like quality is the dependent variable\n",
    "demo3_df.head()"
   ]
  },
  {
   "cell_type": "code",
   "execution_count": 8,
   "metadata": {
    "scrolled": true
   },
   "outputs": [
    {
     "name": "stdout",
     "output_type": "stream",
     "text": [
      "decomposing cluster cluster-0\n",
      "phase #1: NCS\n",
      "phase #2: Search\n",
      "assessing feature alcohol\n",
      "current EV is 4.723934521410767, new EV is 4.245067665175406\n",
      "assessing feature chlorides\n",
      "current EV is 4.723934521410767, new EV is 4.643244380951356\n",
      "assessing feature density\n",
      "current EV is 4.723934521410767, new EV is 4.079544622431165\n",
      "Number of max tries has been reached. Returning current result...\n",
      "decomposing cluster cluster-0-0\n",
      "phase #1: NCS\n",
      "phase #2: Search\n",
      "assessing feature alcohol\n",
      "current EV is 3.859524025576577, new EV is 3.691734857563688\n",
      "assessing feature density\n",
      "current EV is 3.859524025576577, new EV is 3.3128130916847427\n",
      "assessing feature residual sugar\n",
      "current EV is 3.859524025576577, new EV is 3.5363030396950004\n",
      "Number of max tries has been reached. Returning current result...\n",
      "decomposing cluster cluster-0-1\n",
      "phase #1: NCS\n",
      "phase #2: Search\n",
      "assessing feature citric acid\n",
      "current EV is 2.635513512191877, new EV is 2.6032183593434484\n",
      "assessing feature fixed acidity\n",
      "current EV is 2.635513512191877, new EV is 2.2005347257884167\n",
      "assessing feature pH\n",
      "current EV is 2.635513512191877, new EV is 2.459137155923945\n",
      "Number of max tries has been reached. Returning current result...\n"
     ]
    },
    {
     "data": {
      "text/plain": [
       "<decomposition.var_clus.Cluster at 0x27828735c88>"
      ]
     },
     "execution_count": 8,
     "metadata": {},
     "output_type": "execute_result"
    }
   ],
   "source": [
    "demo3 = VarClus()\n",
    "demo3.decompose(demo3_df.drop('quality', axis=1))"
   ]
  },
  {
   "cell_type": "code",
   "execution_count": 9,
   "metadata": {},
   "outputs": [
    {
     "name": "stdout",
     "output_type": "stream",
     "text": [
      "cluster-0\n",
      "|\n",
      "|-----cluster-0-0\n",
      "|     |\n",
      "|     |-----cluster-0-0-0\n",
      "|     |     |-----alcohol\n",
      "|     |     |-----density\n",
      "|     |     |-----residual sugar\n",
      "|     |     |-----total sulfur dioxide\n",
      "|     |\n",
      "|     |-----cluster-0-0-1\n",
      "|           |-----chlorides\n",
      "|           |-----free sulfur dioxide\n",
      "|\n",
      "|-----cluster-0-1\n",
      "      |\n",
      "      |-----cluster-0-1-0\n",
      "      |     |-----citric acid\n",
      "      |     |-----fixed acidity\n",
      "      |     |-----pH\n",
      "      |\n",
      "      |-----cluster-0-1-1\n",
      "            |-----sulphates\n",
      "            |-----volatile acidity\n"
     ]
    }
   ],
   "source": [
    "demo3.print_cluster_structure()"
   ]
  },
  {
   "cell_type": "markdown",
   "metadata": {},
   "source": [
    "* **Red wine**"
   ]
  },
  {
   "cell_type": "code",
   "execution_count": 10,
   "metadata": {
    "collapsed": true
   },
   "outputs": [],
   "source": [
    "demo3_df = pd.read_csv('https://archive.ics.uci.edu/ml/machine-learning-databases/wine-quality/winequality-red.csv', sep=';')"
   ]
  },
  {
   "cell_type": "code",
   "execution_count": 11,
   "metadata": {},
   "outputs": [
    {
     "data": {
      "text/html": [
       "<div>\n",
       "<style>\n",
       "    .dataframe thead tr:only-child th {\n",
       "        text-align: right;\n",
       "    }\n",
       "\n",
       "    .dataframe thead th {\n",
       "        text-align: left;\n",
       "    }\n",
       "\n",
       "    .dataframe tbody tr th {\n",
       "        vertical-align: top;\n",
       "    }\n",
       "</style>\n",
       "<table border=\"1\" class=\"dataframe\">\n",
       "  <thead>\n",
       "    <tr style=\"text-align: right;\">\n",
       "      <th></th>\n",
       "      <th>fixed acidity</th>\n",
       "      <th>volatile acidity</th>\n",
       "      <th>citric acid</th>\n",
       "      <th>residual sugar</th>\n",
       "      <th>chlorides</th>\n",
       "      <th>free sulfur dioxide</th>\n",
       "      <th>total sulfur dioxide</th>\n",
       "      <th>density</th>\n",
       "      <th>pH</th>\n",
       "      <th>sulphates</th>\n",
       "      <th>alcohol</th>\n",
       "      <th>quality</th>\n",
       "    </tr>\n",
       "  </thead>\n",
       "  <tbody>\n",
       "    <tr>\n",
       "      <th>0</th>\n",
       "      <td>7.4</td>\n",
       "      <td>0.70</td>\n",
       "      <td>0.00</td>\n",
       "      <td>1.9</td>\n",
       "      <td>0.076</td>\n",
       "      <td>11.0</td>\n",
       "      <td>34.0</td>\n",
       "      <td>0.9978</td>\n",
       "      <td>3.51</td>\n",
       "      <td>0.56</td>\n",
       "      <td>9.4</td>\n",
       "      <td>5</td>\n",
       "    </tr>\n",
       "    <tr>\n",
       "      <th>1</th>\n",
       "      <td>7.8</td>\n",
       "      <td>0.88</td>\n",
       "      <td>0.00</td>\n",
       "      <td>2.6</td>\n",
       "      <td>0.098</td>\n",
       "      <td>25.0</td>\n",
       "      <td>67.0</td>\n",
       "      <td>0.9968</td>\n",
       "      <td>3.20</td>\n",
       "      <td>0.68</td>\n",
       "      <td>9.8</td>\n",
       "      <td>5</td>\n",
       "    </tr>\n",
       "    <tr>\n",
       "      <th>2</th>\n",
       "      <td>7.8</td>\n",
       "      <td>0.76</td>\n",
       "      <td>0.04</td>\n",
       "      <td>2.3</td>\n",
       "      <td>0.092</td>\n",
       "      <td>15.0</td>\n",
       "      <td>54.0</td>\n",
       "      <td>0.9970</td>\n",
       "      <td>3.26</td>\n",
       "      <td>0.65</td>\n",
       "      <td>9.8</td>\n",
       "      <td>5</td>\n",
       "    </tr>\n",
       "    <tr>\n",
       "      <th>3</th>\n",
       "      <td>11.2</td>\n",
       "      <td>0.28</td>\n",
       "      <td>0.56</td>\n",
       "      <td>1.9</td>\n",
       "      <td>0.075</td>\n",
       "      <td>17.0</td>\n",
       "      <td>60.0</td>\n",
       "      <td>0.9980</td>\n",
       "      <td>3.16</td>\n",
       "      <td>0.58</td>\n",
       "      <td>9.8</td>\n",
       "      <td>6</td>\n",
       "    </tr>\n",
       "    <tr>\n",
       "      <th>4</th>\n",
       "      <td>7.4</td>\n",
       "      <td>0.70</td>\n",
       "      <td>0.00</td>\n",
       "      <td>1.9</td>\n",
       "      <td>0.076</td>\n",
       "      <td>11.0</td>\n",
       "      <td>34.0</td>\n",
       "      <td>0.9978</td>\n",
       "      <td>3.51</td>\n",
       "      <td>0.56</td>\n",
       "      <td>9.4</td>\n",
       "      <td>5</td>\n",
       "    </tr>\n",
       "  </tbody>\n",
       "</table>\n",
       "</div>"
      ],
      "text/plain": [
       "   fixed acidity  volatile acidity  citric acid  residual sugar  chlorides  \\\n",
       "0            7.4              0.70         0.00             1.9      0.076   \n",
       "1            7.8              0.88         0.00             2.6      0.098   \n",
       "2            7.8              0.76         0.04             2.3      0.092   \n",
       "3           11.2              0.28         0.56             1.9      0.075   \n",
       "4            7.4              0.70         0.00             1.9      0.076   \n",
       "\n",
       "   free sulfur dioxide  total sulfur dioxide  density    pH  sulphates  \\\n",
       "0                 11.0                  34.0   0.9978  3.51       0.56   \n",
       "1                 25.0                  67.0   0.9968  3.20       0.68   \n",
       "2                 15.0                  54.0   0.9970  3.26       0.65   \n",
       "3                 17.0                  60.0   0.9980  3.16       0.58   \n",
       "4                 11.0                  34.0   0.9978  3.51       0.56   \n",
       "\n",
       "   alcohol  quality  \n",
       "0      9.4        5  \n",
       "1      9.8        5  \n",
       "2      9.8        5  \n",
       "3      9.8        6  \n",
       "4      9.4        5  "
      ]
     },
     "execution_count": 11,
     "metadata": {},
     "output_type": "execute_result"
    }
   ],
   "source": [
    "# Looks like quality is the dependent variable\n",
    "demo3_df.head()"
   ]
  },
  {
   "cell_type": "code",
   "execution_count": 12,
   "metadata": {
    "scrolled": true
   },
   "outputs": [
    {
     "name": "stdout",
     "output_type": "stream",
     "text": [
      "decomposing cluster cluster-0\n",
      "phase #1: NCS\n",
      "phase #2: Search\n",
      "assessing feature chlorides\n",
      "current EV is 4.829692811123501, new EV is 4.754858095309795\n",
      "assessing feature citric acid\n",
      "current EV is 4.829692811123501, new EV is 4.217963436619195\n",
      "assessing feature density\n",
      "current EV is 4.829692811123501, new EV is 4.6323514547553835\n",
      "Number of max tries has been reached. Returning current result...\n",
      "decomposing cluster cluster-0-0\n",
      "phase #1: NCS\n",
      "phase #2: Search\n",
      "assessing feature citric acid\n",
      "current EV is 3.8229566024138113, new EV is 3.791360818746796\n",
      "assessing feature density\n",
      "current EV is 3.8229566024138113, new EV is 3.600357647184839\n",
      "assessing feature fixed acidity\n",
      "current EV is 3.8229566024138113, new EV is 3.2511781685143406\n",
      "Number of max tries has been reached. Returning current result...\n",
      "decomposing cluster cluster-0-1\n",
      "phase #1: NCS\n",
      "phase #2: Search\n",
      "assessing feature free sulfur dioxide\n",
      "Number of features is smaller than n_split, reducing n_split temporarily\n",
      "current EV is 2.711437596005953, new EV is 2.1905819803386835\n",
      "assessing feature total sulfur dioxide\n",
      "Number of features is smaller than n_split, reducing n_split temporarily\n",
      "current EV is 2.711437596005953, new EV is 2.270136609227417\n",
      "assessing feature alcohol\n",
      "Number of features is smaller than n_split, reducing n_split temporarily\n",
      "current EV is 2.711437596005953, new EV is 2.7223541701851914\n",
      "Feature alcohol was re-assigned\n",
      "cluster-0-1-1 has 1 features and name_1 has 3 features\n",
      "assessing feature residual sugar\n",
      "current EV is 2.7223541701851914, new EV is 1.8044158915341721\n",
      "Number of max tries has been reached. Returning current result...\n"
     ]
    },
    {
     "data": {
      "text/plain": [
       "<decomposition.var_clus.Cluster at 0x27828758d68>"
      ]
     },
     "execution_count": 12,
     "metadata": {},
     "output_type": "execute_result"
    }
   ],
   "source": [
    "demo3 = VarClus()\n",
    "demo3.decompose(demo3_df.drop('quality', axis=1))"
   ]
  },
  {
   "cell_type": "code",
   "execution_count": 13,
   "metadata": {},
   "outputs": [
    {
     "name": "stdout",
     "output_type": "stream",
     "text": [
      "cluster-0\n",
      "|\n",
      "|-----cluster-0-0\n",
      "|     |\n",
      "|     |-----cluster-0-0-0\n",
      "|     |     |-----citric acid\n",
      "|     |     |-----density\n",
      "|     |     |-----fixed acidity\n",
      "|     |     |-----pH\n",
      "|     |     |-----sulphates\n",
      "|     |\n",
      "|     |-----cluster-0-0-1\n",
      "|           |-----chlorides\n",
      "|           |-----volatile acidity\n",
      "|\n",
      "|-----cluster-0-1\n",
      "      |\n",
      "      |-----cluster-0-1-0\n",
      "      |     |-----free sulfur dioxide\n",
      "      |     |-----total sulfur dioxide\n",
      "      |     |-----alcohol\n",
      "      |\n",
      "      |-----cluster-0-1-1\n",
      "            |-----residual sugar\n"
     ]
    }
   ],
   "source": [
    "# Similar structure\n",
    "demo3.print_cluster_structure()"
   ]
  }
 ],
 "metadata": {
  "kernelspec": {
   "display_name": "Python 3",
   "language": "python",
   "name": "python3"
  },
  "language_info": {
   "codemirror_mode": {
    "name": "ipython",
    "version": 3
   },
   "file_extension": ".py",
   "mimetype": "text/x-python",
   "name": "python",
   "nbconvert_exporter": "python",
   "pygments_lexer": "ipython3",
   "version": "3.6.3"
  }
 },
 "nbformat": 4,
 "nbformat_minor": 2
}
